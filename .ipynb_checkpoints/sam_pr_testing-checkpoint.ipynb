{
 "cells": [
  {
   "cell_type": "code",
   "execution_count": 59,
   "metadata": {},
   "outputs": [],
   "source": [
    "#-------------------------------------------------------------------#\n",
    "#1.Financial Model - LCOE Calculator Analysis\n",
    "#-------------------------------------------------------------------#"
   ]
  },
  {
   "cell_type": "code",
   "execution_count": null,
   "metadata": {},
   "outputs": [],
   "source": [
    "#Model Inputs\n",
    "#Capital cost, $ (TCC)\n",
    "#Fixed annual operating cost, $ (FOC)\n",
    "#Variable operating cost, $/kWh (VOC)\n",
    "#Fixed charge rate (FCR)\n",
    "#Annual electricity production, kWh (AEP)\n",
    "\n",
    "#Model Outputs\n",
    "#LCOE, $/kWH\n",
    "\n",
    "#References:\n",
    "#https://sam.nrel.gov/financial-models/lcoe-calculator.html\n",
    "#https://pysam-docs.readthedocs.io/en/latest/modules/Lcoefcr.html"
   ]
  },
  {
   "cell_type": "code",
   "execution_count": 78,
   "metadata": {},
   "outputs": [],
   "source": [
    "#Dependencies\n",
    "import PySAM.Lcoefcr as lc"
   ]
  },
  {
   "cell_type": "code",
   "execution_count": 79,
   "metadata": {},
   "outputs": [],
   "source": [
    "#Instantiate the Lcoefcr model\n",
    "model = lc.default(\"PVWattsLCOECalculator\")"
   ]
  },
  {
   "cell_type": "code",
   "execution_count": 81,
   "metadata": {},
   "outputs": [],
   "source": [
    "#Declare inputs variables\n",
    "aep = 6500\n",
    "tcc = 2000\n",
    "fcr = 2\n",
    "foc = 500\n",
    "voc = 500\n",
    "\n",
    "#Assemble in a dictionary\n",
    "model_input = {\"SimpleLCOE\":{'annual_energy':aep,\n",
    "    'capital_cost':tcc,\n",
    "    'fixed_charge_rate':fcr,\n",
    "    'fixed_operating_cost':foc,\n",
    "    'variable_operating_cost':voc}}\n",
    "\n",
    "#Assign the inputs to the model\n",
    "mod.assign(model_input)\n",
    "\n",
    "#Run the model\n",
    "mod.execute()"
   ]
  },
  {
   "cell_type": "code",
   "execution_count": 84,
   "metadata": {},
   "outputs": [
    {
     "data": {
      "text/plain": [
       "500.6923076923077"
      ]
     },
     "execution_count": 84,
     "metadata": {},
     "output_type": "execute_result"
    }
   ],
   "source": [
    "#See results\n",
    "mod.Outputs.lcoe_fcr"
   ]
  },
  {
   "cell_type": "code",
   "execution_count": 85,
   "metadata": {},
   "outputs": [
    {
     "data": {
      "text/plain": [
       "{'SimpleLCOE': {'annual_energy': 6500.0,\n",
       "  'capital_cost': 2000.0,\n",
       "  'fixed_charge_rate': 2.0,\n",
       "  'fixed_operating_cost': 500.0,\n",
       "  'variable_operating_cost': 500.0},\n",
       " 'Outputs': {'lcoe_fcr': 500.6923076923077}}"
      ]
     },
     "execution_count": 85,
     "metadata": {},
     "output_type": "execute_result"
    }
   ],
   "source": [
    "#Export model as dictionary\n",
    "mod.export()"
   ]
  },
  {
   "cell_type": "code",
   "execution_count": 60,
   "metadata": {},
   "outputs": [],
   "source": [
    "#-------------------------------------------------------------------#\n",
    "#2.Performance Model - PVWatts Module Analysis\n",
    "#-------------------------------------------------------------------#"
   ]
  },
  {
   "cell_type": "code",
   "execution_count": null,
   "metadata": {},
   "outputs": [],
   "source": [
    "#Model Inputs (Check documentation from the link in references)\n",
    "#LocationAndResource => solar resource/weather file\n",
    "#SystemDesign => not manditory but necessary, if not given as inputs there are default values\n",
    "#AdjustmentFactors => not required\n",
    "\n",
    "#References\n",
    "#https://pysam-docs.readthedocs.io/en/latest/modules/Pvwattsv5.html"
   ]
  },
  {
   "cell_type": "code",
   "execution_count": 2,
   "metadata": {},
   "outputs": [],
   "source": [
    "#Code to show the OUTPUTS of the model\n",
    "import PySAM.Pvwattsv5 as pv\n",
    "d = pv.default(\"PVWattsLCOECalculator\")\n",
    "d.LocationAndResource.solar_resource_file = \"725_commonwealth_avenue_boston_ma_02215_42.350506_-71.107360_psmv3_60_2017.csv\"\n",
    "d.execute()\n",
    "x = dict(d.Outputs.export())\n",
    "#list(x.keys())"
   ]
  },
  {
   "cell_type": "code",
   "execution_count": 76,
   "metadata": {},
   "outputs": [],
   "source": [
    "#Applying The Model"
   ]
  },
  {
   "cell_type": "code",
   "execution_count": 3,
   "metadata": {},
   "outputs": [],
   "source": [
    "import PySAM.Pvwattsv5 as pv\n",
    "d2 = pv.default(\"PVWattsLCOECalculator\")\n",
    "#d.LocationAndResource.solar_resource_file = \"725_commonwealth_avenue_boston_ma_02215_42.350506_-71.107360_psmv3_60_2017.csv\""
   ]
  },
  {
   "cell_type": "code",
   "execution_count": 4,
   "metadata": {},
   "outputs": [
    {
     "data": {
      "text/plain": [
       "{'array_type': 2.0,\n",
       " 'azimuth': 180.0,\n",
       " 'dc_ac_ratio': 1.2,\n",
       " 'gcr': 0.4,\n",
       " 'inv_eff': 96.0,\n",
       " 'losses': 14.0757,\n",
       " 'module_type': 0.0,\n",
       " 'system_capacity': 20000.0,\n",
       " 'tilt': 33.0}"
      ]
     },
     "execution_count": 4,
     "metadata": {},
     "output_type": "execute_result"
    }
   ],
   "source": [
    "d2.SystemDesign.export()"
   ]
  },
  {
   "cell_type": "code",
   "execution_count": 5,
   "metadata": {},
   "outputs": [],
   "source": [
    "model_inputs = {\n",
    "    'LocationAndResource':\n",
    "    {\n",
    "        'solar_resource_file':\"725_commonwealth_avenue_boston_ma_02215_42.350506_-71.107360_psmv3_60_2017.csv\"\n",
    "    },\n",
    "    'SystemDesign':\n",
    "      {\n",
    "        'array_type': 2.0,\n",
    "        'azimuth': 180.0,\n",
    "        'dc_ac_ratio': 1.2,\n",
    "        'gcr': 0.4,\n",
    "        'inv_eff': 96.0,\n",
    "        'losses': 14.0757,\n",
    "        'module_type': 0.0,\n",
    "        'system_capacity': 20000.0,\n",
    "        'tilt': 33.0}\n",
    "     }"
   ]
  },
  {
   "cell_type": "code",
   "execution_count": 6,
   "metadata": {},
   "outputs": [],
   "source": [
    "d2.assign(model_inputs)"
   ]
  },
  {
   "cell_type": "code",
   "execution_count": 7,
   "metadata": {},
   "outputs": [],
   "source": [
    "d2.execute()"
   ]
  },
  {
   "cell_type": "code",
   "execution_count": 13,
   "metadata": {},
   "outputs": [
    {
     "data": {
      "text/plain": [
       "0.764053141101219"
      ]
     },
     "execution_count": 13,
     "metadata": {},
     "output_type": "execute_result"
    }
   ],
   "source": [
    "#d2.Outputs.export()\n",
    "#PR computation\n",
    "outputs = d2.Outputs.export()\n",
    "ac_annual = outputs['ac_annual']\n",
    "system_inputs = d2.SystemDesign.export()\n",
    "power_rating = system_inputs['system_capacity']\n",
    "g_poa_annual = outputs['poa']\n",
    "g_stc = 1000\n",
    "A = [(x*power_rating)/g_stc for x in g_poa_annual]\n",
    "pr = ac_annual/(sum(A))\n",
    "pr"
   ]
  },
  {
   "cell_type": "code",
   "execution_count": 73,
   "metadata": {},
   "outputs": [],
   "source": [
    "#-------------------------------------------------------------------#\n",
    "#3.Performance Ratio Corrected Analysis\n",
    "#-------------------------------------------------------------------#"
   ]
  },
  {
   "cell_type": "code",
   "execution_count": 3,
   "metadata": {},
   "outputs": [
    {
     "data": {
      "text/plain": [
       "'\\nThis part calculates the performance ratio of a location using expected values of energy generation, \\nG_poa, T_cell from PVwatt. The weather file is from NSRDB. Assumptions for this analysis will be listed.\\n'"
      ]
     },
     "execution_count": 3,
     "metadata": {},
     "output_type": "execute_result"
    }
   ],
   "source": [
    "'''\n",
    "This part calculates the performance ratio of a location using expected values of energy generation, \n",
    "G_poa, T_cell from PVwatt. The weather file is from NSRDB. Assumptions for this analysis will be listed.\n",
    "'''\n",
    "#Reference => https://www.nrel.gov/docs/fy13osti/57991.pdf"
   ]
  },
  {
   "cell_type": "code",
   "execution_count": 4,
   "metadata": {},
   "outputs": [],
   "source": [
    "#1. Finding Measured AC electrical generation [kW] using PVWatt model (this will be power output measurement)\n",
    "import PySAM.Pvwattsv5 as pv\n",
    "model = pv.default(\"PVWattsLCOECalculator\")\n",
    "\n",
    "model_inputs = {\n",
    "    'LocationAndResource':\n",
    "    {\n",
    "        'solar_resource_file':\"33.45_-111.98_33.450547_-111.980443_psmv3_60_2017.csv\"\n",
    "    },\n",
    "    'SystemDesign':\n",
    "      {\n",
    "        'array_type': 2.0,\n",
    "        'azimuth': 180.0,\n",
    "        'dc_ac_ratio': 1.2,\n",
    "        'gcr': 0.4,\n",
    "        'inv_eff': 96.0,\n",
    "        'losses': 14.0757,\n",
    "        'module_type': 0.0,\n",
    "        'system_capacity': 20000.0,\n",
    "        'tilt': 33.0}\n",
    "     }\n",
    "\n",
    "model.assign(model_inputs)\n",
    "model.execute()\n",
    "\n",
    "outputs = model.Outputs.export()\n",
    "ac_annual = outputs['ac_annual']"
   ]
  },
  {
   "cell_type": "code",
   "execution_count": 5,
   "metadata": {},
   "outputs": [
    {
     "data": {
      "text/plain": [
       "20000.0"
      ]
     },
     "execution_count": 5,
     "metadata": {},
     "output_type": "execute_result"
    }
   ],
   "source": [
    "#2. Summation of installed module's power rating [kW]/nameplate rating\n",
    "system_inputs = model.SystemDesign.export()\n",
    "power_rating = system_inputs['system_capacity']\n",
    "power_rating"
   ]
  },
  {
   "cell_type": "code",
   "execution_count": 6,
   "metadata": {},
   "outputs": [],
   "source": [
    "#3. Measured Plane of Array Irradiance [kW/m2] (which will be pyranometer data)\n",
    "g_poa_annual = outputs['poa']"
   ]
  },
  {
   "cell_type": "code",
   "execution_count": 7,
   "metadata": {},
   "outputs": [],
   "source": [
    "#4. Irradiance at STC\n",
    "g_stc = 1000"
   ]
  },
  {
   "cell_type": "code",
   "execution_count": 8,
   "metadata": {},
   "outputs": [],
   "source": [
    "#5. Temperature correction\n",
    "#Temperature coefficient for power %/C\n",
    "delta = 0.5 \n",
    "#Cell temperature per hour from SAM\n",
    "tcell = outputs['tcell']\n",
    "#Average cell temperature\n",
    "y = 0 \n",
    "for x in range(8760):\n",
    "    y = y + g_poa_annual[x]*tcell[x]\n",
    "tcell_avg = y/sum(g_poa_annual)\n",
    "\n",
    "A = [tcell_avg - x for x in tcell]\n",
    "B = [(delta/100)*x for x in A]\n",
    "corr = [1 - x for x in B]"
   ]
  },
  {
   "cell_type": "code",
   "execution_count": 9,
   "metadata": {},
   "outputs": [
    {
     "data": {
      "text/plain": [
       "0.7227043372981035"
      ]
     },
     "execution_count": 9,
     "metadata": {},
     "output_type": "execute_result"
    }
   ],
   "source": [
    "#6. Compute the Performance Ratio\n",
    "A = [(x*power_rating)/g_stc for x in g_poa_annual]\n",
    "pr = ac_annual/(sum(A))\n",
    "pr"
   ]
  },
  {
   "cell_type": "code",
   "execution_count": 10,
   "metadata": {},
   "outputs": [
    {
     "data": {
      "text/plain": [
       "0.7227043372981007"
      ]
     },
     "execution_count": 10,
     "metadata": {},
     "output_type": "execute_result"
    }
   ],
   "source": [
    "#7. Compute the Performance Ratio Corrected\n",
    "A = [(x*power_rating)/g_stc for x in g_poa_annual]\n",
    "B = 0\n",
    "for x in range(8760):\n",
    "    B = B + A[x]*corr[x]\n",
    "\n",
    "pr_corr = ac_annual/B\n",
    "pr_corr"
   ]
  },
  {
   "cell_type": "code",
   "execution_count": null,
   "metadata": {},
   "outputs": [],
   "source": []
  },
  {
   "cell_type": "code",
   "execution_count": null,
   "metadata": {},
   "outputs": [],
   "source": []
  },
  {
   "cell_type": "code",
   "execution_count": null,
   "metadata": {},
   "outputs": [],
   "source": []
  },
  {
   "cell_type": "code",
   "execution_count": null,
   "metadata": {},
   "outputs": [],
   "source": []
  },
  {
   "cell_type": "code",
   "execution_count": null,
   "metadata": {},
   "outputs": [],
   "source": []
  },
  {
   "cell_type": "code",
   "execution_count": null,
   "metadata": {},
   "outputs": [],
   "source": []
  },
  {
   "cell_type": "code",
   "execution_count": null,
   "metadata": {},
   "outputs": [],
   "source": []
  },
  {
   "cell_type": "code",
   "execution_count": 90,
   "metadata": {},
   "outputs": [],
   "source": [
    "import pandas as pd"
   ]
  },
  {
   "cell_type": "code",
   "execution_count": 106,
   "metadata": {},
   "outputs": [
    {
     "data": {
      "text/plain": [
       "0       -71.1\n",
       "1         DHI\n",
       "2           0\n",
       "3           0\n",
       "4           0\n",
       "5           0\n",
       "6           0\n",
       "7           0\n",
       "8           0\n",
       "9          14\n",
       "10         50\n",
       "11         65\n",
       "12         72\n",
       "13         75\n",
       "14         74\n",
       "15         68\n",
       "16         56\n",
       "17         35\n",
       "18          0\n",
       "19          0\n",
       "20          0\n",
       "21          0\n",
       "22          0\n",
       "23          0\n",
       "24          0\n",
       "25          0\n",
       "26          0\n",
       "27          0\n",
       "28          0\n",
       "29          0\n",
       "        ...  \n",
       "8732        0\n",
       "8733        0\n",
       "8734        0\n",
       "8735        0\n",
       "8736        0\n",
       "8737        0\n",
       "8738        0\n",
       "8739        0\n",
       "8740        0\n",
       "8741        0\n",
       "8742        0\n",
       "8743        0\n",
       "8744        0\n",
       "8745       21\n",
       "8746       49\n",
       "8747       67\n",
       "8748       80\n",
       "8749       84\n",
       "8750      146\n",
       "8751      131\n",
       "8752       90\n",
       "8753       44\n",
       "8754        0\n",
       "8755        0\n",
       "8756        0\n",
       "8757        0\n",
       "8758        0\n",
       "8759        0\n",
       "8760        0\n",
       "8761        0\n",
       "Name: Longitude, Length: 8762, dtype: object"
      ]
     },
     "execution_count": 106,
     "metadata": {},
     "output_type": "execute_result"
    }
   ],
   "source": [
    "x = \"725_commonwealth_avenue_boston_ma_02215_42.350506_-71.107360_psmv3_60_2017.csv\"\n",
    "y = \"albuquerque_weather_file.csv\"\n",
    "df = pd.read_csv(x)\n",
    "dict(df)['Longitude']"
   ]
  },
  {
   "cell_type": "code",
   "execution_count": 99,
   "metadata": {},
   "outputs": [
    {
     "name": "stdout",
     "output_type": "stream",
     "text": [
      "Unnamed: 0\n",
      "Year\n",
      "Month\n",
      "Day\n",
      "Hour\n",
      "Minute\n",
      "GHI\n",
      "DHI\n",
      "DNI\n",
      "Wind Speed\n",
      "Temperature\n",
      "Solar Zenith Angle\n"
     ]
    }
   ],
   "source": [
    "for keys in dict(df):\n",
    "    print(keys)"
   ]
  },
  {
   "cell_type": "code",
   "execution_count": null,
   "metadata": {},
   "outputs": [],
   "source": []
  }
 ],
 "metadata": {
  "kernelspec": {
   "display_name": "Python 3",
   "language": "python",
   "name": "python3"
  },
  "language_info": {
   "codemirror_mode": {
    "name": "ipython",
    "version": 3
   },
   "file_extension": ".py",
   "mimetype": "text/x-python",
   "name": "python",
   "nbconvert_exporter": "python",
   "pygments_lexer": "ipython3",
   "version": "3.6.8"
  }
 },
 "nbformat": 4,
 "nbformat_minor": 2
}
