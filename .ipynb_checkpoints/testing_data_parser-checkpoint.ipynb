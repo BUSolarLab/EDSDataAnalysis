{
 "cells": [
  {
   "cell_type": "code",
   "execution_count": 1,
   "metadata": {},
   "outputs": [],
   "source": [
    "import pandas as pd\n",
    "import numpy as np\n",
    "import math\n",
    "import datetime"
   ]
  },
  {
   "cell_type": "code",
   "execution_count": 2,
   "metadata": {},
   "outputs": [],
   "source": [
    "#---------------------------------------------------------#\n",
    "# Prototyping\n",
    "#---------------------------------------------------------#"
   ]
  },
  {
   "cell_type": "code",
   "execution_count": 3,
   "metadata": {},
   "outputs": [],
   "source": [
    "eds_cols = {}\n",
    "window = 7"
   ]
  },
  {
   "cell_type": "code",
   "execution_count": 8,
   "metadata": {},
   "outputs": [
    {
     "data": {
      "text/html": [
       "<div>\n",
       "<style scoped>\n",
       "    .dataframe tbody tr th:only-of-type {\n",
       "        vertical-align: middle;\n",
       "    }\n",
       "\n",
       "    .dataframe tbody tr th {\n",
       "        vertical-align: top;\n",
       "    }\n",
       "\n",
       "    .dataframe thead th {\n",
       "        text-align: right;\n",
       "    }\n",
       "</style>\n",
       "<table border=\"1\" class=\"dataframe\">\n",
       "  <thead>\n",
       "    <tr style=\"text-align: right;\">\n",
       "      <th></th>\n",
       "      <th>Date</th>\n",
       "      <th>Time</th>\n",
       "      <th>Temperature(C)</th>\n",
       "      <th>Humidity(%)</th>\n",
       "      <th>GPOA(W/M2)</th>\n",
       "      <th>EDS(#)</th>\n",
       "      <th>OCV_Before(V)</th>\n",
       "      <th>OCV_After(V)</th>\n",
       "      <th>SCC_Before(A)</th>\n",
       "      <th>SCC_After(A)</th>\n",
       "      <th>CTRL1_OCV(V)</th>\n",
       "      <th>CTRL1_SCC(A)</th>\n",
       "      <th>CTRL2_OCV(V)</th>\n",
       "      <th>CTRL2_SCC(A)</th>\n",
       "      <th>EDS_PWR_Before(W)</th>\n",
       "      <th>EDS_PWR_After(W)</th>\n",
       "      <th>CTRL1_PWR(W)</th>\n",
       "      <th>CTRL2_PWR(W)</th>\n",
       "    </tr>\n",
       "  </thead>\n",
       "  <tbody>\n",
       "    <tr>\n",
       "      <td>0</td>\n",
       "      <td>1/22/2020</td>\n",
       "      <td>12:33:26</td>\n",
       "      <td>32.4</td>\n",
       "      <td>28.3</td>\n",
       "      <td>-1</td>\n",
       "      <td>1</td>\n",
       "      <td>0.307863</td>\n",
       "      <td>0.307863</td>\n",
       "      <td>0.030797</td>\n",
       "      <td>0.030797</td>\n",
       "      <td>19.826405</td>\n",
       "      <td>0.066726</td>\n",
       "      <td>0.307863</td>\n",
       "      <td>0.030797</td>\n",
       "      <td>0.004043</td>\n",
       "      <td>0.004043</td>\n",
       "      <td>1.28099</td>\n",
       "      <td>0.004043</td>\n",
       "    </tr>\n",
       "  </tbody>\n",
       "</table>\n",
       "</div>"
      ],
      "text/plain": [
       "        Date      Time  Temperature(C)  Humidity(%)  GPOA(W/M2)  EDS(#)  \\\n",
       "0  1/22/2020  12:33:26            32.4         28.3          -1       1   \n",
       "\n",
       "   OCV_Before(V)  OCV_After(V)  SCC_Before(A)  SCC_After(A)  CTRL1_OCV(V)  \\\n",
       "0       0.307863      0.307863       0.030797      0.030797     19.826405   \n",
       "\n",
       "   CTRL1_SCC(A)  CTRL2_OCV(V)  CTRL2_SCC(A)  EDS_PWR_Before(W)  \\\n",
       "0      0.066726      0.307863      0.030797           0.004043   \n",
       "\n",
       "   EDS_PWR_After(W)  CTRL1_PWR(W)  CTRL2_PWR(W)  \n",
       "0          0.004043       1.28099      0.004043  "
      ]
     },
     "execution_count": 8,
     "metadata": {},
     "output_type": "execute_result"
    }
   ],
   "source": [
    "# file location for the csv file\n",
    "file = \"./testing_data.csv\"\n",
    "# return pandas dataframe of the csv file\n",
    "df = pd.read_csv(file)\n",
    "# remove all NaN entries\n",
    "df.drop(df.filter(regex=\"Unname\"),axis=1, inplace=True)\n",
    "a=df.iterrows()\n",
    "i = 0\n",
    "for index,row in a:\n",
    "    if math.isnan(row[2]):\n",
    "        break\n",
    "    else:\n",
    "        i = i + 1\n",
    "table = df[0:i]\n",
    "df.head(1)"
   ]
  },
  {
   "cell_type": "code",
   "execution_count": null,
   "metadata": {},
   "outputs": [],
   "source": []
  }
 ],
 "metadata": {
  "kernelspec": {
   "display_name": "Python 3",
   "language": "python",
   "name": "python3"
  },
  "language_info": {
   "codemirror_mode": {
    "name": "ipython",
    "version": 3
   },
   "file_extension": ".py",
   "mimetype": "text/x-python",
   "name": "python",
   "nbconvert_exporter": "python",
   "pygments_lexer": "ipython3",
   "version": "3.7.4"
  }
 },
 "nbformat": 4,
 "nbformat_minor": 4
}
