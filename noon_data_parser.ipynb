{
 "cells": [
  {
   "cell_type": "code",
   "execution_count": 495,
   "metadata": {},
   "outputs": [],
   "source": [
    "import pandas as pd\n",
    "import numpy as np\n",
    "import math\n",
    "import datetime"
   ]
  },
  {
   "cell_type": "code",
   "execution_count": 597,
   "metadata": {},
   "outputs": [],
   "source": [
    "#---------------------------------------------------------#\n",
    "# Prototyping\n",
    "#---------------------------------------------------------#"
   ]
  },
  {
   "cell_type": "code",
   "execution_count": 549,
   "metadata": {},
   "outputs": [],
   "source": [
    "# get the csv file"
   ]
  },
  {
   "cell_type": "code",
   "execution_count": 596,
   "metadata": {},
   "outputs": [],
   "source": [
    "# file location for the csv file\n",
    "file = \"./noon_data.csv\"\n",
    "\n",
    "# Return all but first 2 lines of csv to get data:\n",
    "df = pd.read_csv(file)\n",
    "df.drop(df.filter(regex=\"Unname\"),axis=1, inplace=True)\n",
    "a=df.iterrows()\n",
    "i = 0\n",
    "for index,row in a:\n",
    "    if math.isnan(row[2]):\n",
    "        break\n",
    "    else:\n",
    "        i = i + 1\n",
    "table = df[0:i]"
   ]
  },
  {
   "cell_type": "code",
   "execution_count": 369,
   "metadata": {},
   "outputs": [],
   "source": [
    "# define dictionary for new table"
   ]
  },
  {
   "cell_type": "code",
   "execution_count": 561,
   "metadata": {},
   "outputs": [],
   "source": [
    "eds_cols = {}\n",
    "window = 7"
   ]
  },
  {
   "cell_type": "code",
   "execution_count": 562,
   "metadata": {},
   "outputs": [],
   "source": [
    "# sort date based on time window"
   ]
  },
  {
   "cell_type": "code",
   "execution_count": 563,
   "metadata": {},
   "outputs": [],
   "source": [
    "col_name = 'Date'\n",
    "counter = 0\n",
    "date_string = ''\n",
    "new_col = {col_name:[]}"
   ]
  },
  {
   "cell_type": "code",
   "execution_count": 564,
   "metadata": {},
   "outputs": [],
   "source": [
    "for x in df[col_name]:\n",
    "    if counter == 0:\n",
    "        # store the first date to date_string\n",
    "        date_string = date_string + x + '-'\n",
    "        # increase counter\n",
    "        counter = counter + 1\n",
    "    elif counter == ((window*2)-1):\n",
    "        # store the last date\n",
    "        date_string = date_string + x\n",
    "        # store to dictionary for dataframe for pre and post entry\n",
    "        new_col[col_name].append(date_string)\n",
    "        new_col[col_name].append(date_string)\n",
    "        # reset date_string\n",
    "        date_string = ''\n",
    "        # reset counter\n",
    "        counter = 0\n",
    "    else:\n",
    "        # increase counter\n",
    "        counter = counter + 1\n",
    "eds_cols.update(new_col)   "
   ]
  },
  {
   "cell_type": "code",
   "execution_count": 565,
   "metadata": {},
   "outputs": [],
   "source": [
    "# solar noon time sorting"
   ]
  },
  {
   "cell_type": "code",
   "execution_count": 566,
   "metadata": {},
   "outputs": [],
   "source": [
    "col_name = 'Time'\n",
    "counter = 0\n",
    "index_counter = 0\n",
    "pre_time_data=[]\n",
    "post_time_data=[]\n",
    "new_col = {col_name:[]}"
   ]
  },
  {
   "cell_type": "code",
   "execution_count": 567,
   "metadata": {},
   "outputs": [],
   "source": [
    "for x in df[col_name]:\n",
    "    # convert time to seconds\n",
    "    a,b,c = x.split(':')\n",
    "    hour = int(a)*60*60\n",
    "    minute = int(b)*60\n",
    "    second = int(c)\n",
    "    total_sec = hour + minute + second\n",
    "    if counter == ((window*2)-1):\n",
    "        # append the nth data for post time\n",
    "        post_time_data.append(total_sec)\n",
    "        index_counter = 0\n",
    "        # take average seconds\n",
    "        pre_time_avg = sum(pre_time_data)/window\n",
    "        post_time_avg = sum(post_time_data)/window\n",
    "        # convert seconds back to time string using datetime\n",
    "        pre_time = str(datetime.timedelta(seconds = int(pre_time_avg)))\n",
    "        post_time = str(datetime.timedelta(seconds = int(post_time_avg)))\n",
    "        # append to the dictionary\n",
    "        new_col[col_name].append(pre_time)\n",
    "        new_col[col_name].append(post_time)\n",
    "        # reset counter\n",
    "        counter = 0\n",
    "        pre_time_data = []\n",
    "        post_time_data = []\n",
    "    else:\n",
    "        # seperate pre and post time data points\n",
    "        if index_counter % 2 == 0:\n",
    "            # append time data for pre measurements\n",
    "            pre_time_data.append(total_sec)\n",
    "            index_counter = index_counter + 1\n",
    "        else:\n",
    "            # append time data for post measurements\n",
    "            post_time_data.append(total_sec)\n",
    "            index_counter = 0\n",
    "        # increase counter\n",
    "        counter = counter + 1\n",
    "eds_cols.update(new_col)        "
   ]
  },
  {
   "cell_type": "code",
   "execution_count": 568,
   "metadata": {},
   "outputs": [],
   "source": [
    "# numerical data sorting"
   ]
  },
  {
   "cell_type": "code",
   "execution_count": 569,
   "metadata": {},
   "outputs": [],
   "source": [
    "col_name = 'Temperature(C)'\n",
    "counter = 0\n",
    "index_counter = 0\n",
    "pre_data = []\n",
    "post_data = []\n",
    "pre_avg = 0\n",
    "post_avg = 0\n",
    "new_col = {col_name:[]}"
   ]
  },
  {
   "cell_type": "code",
   "execution_count": 570,
   "metadata": {},
   "outputs": [],
   "source": [
    "for x in df[col_name]:\n",
    "    if counter == ((window*2)-1):\n",
    "        # seperate pre and post for nth data\n",
    "        post_data.append(x)\n",
    "        index_counter=0\n",
    "        # get average value from pre post lists\n",
    "        pre_avg = sum(pre_data)/window\n",
    "        post_avg = sum(post_data)/window\n",
    "        # append results to new dataframe\n",
    "        new_col[col_name].append(pre_avg)\n",
    "        new_col[col_name].append(post_avg)\n",
    "        # reset counter\n",
    "        counter = 0\n",
    "        pre_data=[]\n",
    "        post_data=[]\n",
    "    else:\n",
    "        # seperate pre and post data points\n",
    "        if index_counter % 2 == 0:\n",
    "            pre_data.append(x)\n",
    "            index_counter = index_counter + 1\n",
    "        else:\n",
    "            post_data.append(x)\n",
    "            index_counter = 0\n",
    "        # increase counter\n",
    "        counter = counter + 1\n",
    "eds_cols.update(new_col)"
   ]
  },
  {
   "cell_type": "code",
   "execution_count": 571,
   "metadata": {},
   "outputs": [
    {
     "data": {
      "text/plain": [
       "{'Date': ['1/27/2020-2/2/2020',\n",
       "  '1/27/2020-2/2/2020',\n",
       "  '2/3/2020-2/9/2020',\n",
       "  '2/3/2020-2/9/2020'],\n",
       " 'Time': ['12:34:30', '12:35:55', '12:33:26', '12:34:51'],\n",
       " 'Temperature(C)': [32.42857142857143,\n",
       "  32.42857142857143,\n",
       "  32.714285714285715,\n",
       "  32.714285714285715]}"
      ]
     },
     "execution_count": 571,
     "metadata": {},
     "output_type": "execute_result"
    }
   ],
   "source": [
    "eds_cols"
   ]
  },
  {
   "cell_type": "code",
   "execution_count": 572,
   "metadata": {},
   "outputs": [],
   "source": [
    "# pre/post label sorting, "
   ]
  },
  {
   "cell_type": "code",
   "execution_count": 573,
   "metadata": {},
   "outputs": [],
   "source": [
    "col_name = 'PRE/POST'\n",
    "col_name2 = 'EDS/CTRL(#)'\n",
    "counter = 0\n",
    "new_col = {col_name:[]}\n",
    "new_col2= {col_name2:[]}"
   ]
  },
  {
   "cell_type": "code",
   "execution_count": 574,
   "metadata": {},
   "outputs": [],
   "source": [
    "for x in df[col_name]:\n",
    "    if counter == ((window*2)-1):\n",
    "        # append PRE\n",
    "        new_col[col_name].append(\"PRE\")\n",
    "        # append POST\n",
    "        new_col[col_name].append(\"POST\")\n",
    "        # append EDS number\n",
    "        new_col2[col_name2].append(\"EDS1\")\n",
    "        new_col2[col_name2].append(\"EDS1\")\n",
    "        # reset counter\n",
    "        counter = 0\n",
    "    else:\n",
    "        # increase counter\n",
    "        counter = counter + 1\n",
    "eds_cols.update(new_col)\n",
    "eds_cols.update(new_col2)"
   ]
  },
  {
   "cell_type": "code",
   "execution_count": 575,
   "metadata": {},
   "outputs": [],
   "source": [
    "# create new dataframe"
   ]
  },
  {
   "cell_type": "code",
   "execution_count": 576,
   "metadata": {},
   "outputs": [
    {
     "data": {
      "text/html": [
       "<div>\n",
       "<style scoped>\n",
       "    .dataframe tbody tr th:only-of-type {\n",
       "        vertical-align: middle;\n",
       "    }\n",
       "\n",
       "    .dataframe tbody tr th {\n",
       "        vertical-align: top;\n",
       "    }\n",
       "\n",
       "    .dataframe thead th {\n",
       "        text-align: right;\n",
       "    }\n",
       "</style>\n",
       "<table border=\"1\" class=\"dataframe\">\n",
       "  <thead>\n",
       "    <tr style=\"text-align: right;\">\n",
       "      <th></th>\n",
       "      <th>Date</th>\n",
       "      <th>Time</th>\n",
       "      <th>Temperature(C)</th>\n",
       "      <th>PRE/POST</th>\n",
       "      <th>EDS/CTRL(#)</th>\n",
       "    </tr>\n",
       "  </thead>\n",
       "  <tbody>\n",
       "    <tr>\n",
       "      <td>0</td>\n",
       "      <td>1/27/2020-2/2/2020</td>\n",
       "      <td>12:34:30</td>\n",
       "      <td>32.428571</td>\n",
       "      <td>PRE</td>\n",
       "      <td>EDS1</td>\n",
       "    </tr>\n",
       "    <tr>\n",
       "      <td>1</td>\n",
       "      <td>1/27/2020-2/2/2020</td>\n",
       "      <td>12:35:55</td>\n",
       "      <td>32.428571</td>\n",
       "      <td>POST</td>\n",
       "      <td>EDS1</td>\n",
       "    </tr>\n",
       "    <tr>\n",
       "      <td>2</td>\n",
       "      <td>2/3/2020-2/9/2020</td>\n",
       "      <td>12:33:26</td>\n",
       "      <td>32.714286</td>\n",
       "      <td>PRE</td>\n",
       "      <td>EDS1</td>\n",
       "    </tr>\n",
       "    <tr>\n",
       "      <td>3</td>\n",
       "      <td>2/3/2020-2/9/2020</td>\n",
       "      <td>12:34:51</td>\n",
       "      <td>32.714286</td>\n",
       "      <td>POST</td>\n",
       "      <td>EDS1</td>\n",
       "    </tr>\n",
       "  </tbody>\n",
       "</table>\n",
       "</div>"
      ],
      "text/plain": [
       "                 Date      Time  Temperature(C) PRE/POST EDS/CTRL(#)\n",
       "0  1/27/2020-2/2/2020  12:34:30       32.428571      PRE        EDS1\n",
       "1  1/27/2020-2/2/2020  12:35:55       32.428571     POST        EDS1\n",
       "2   2/3/2020-2/9/2020  12:33:26       32.714286      PRE        EDS1\n",
       "3   2/3/2020-2/9/2020  12:34:51       32.714286     POST        EDS1"
      ]
     },
     "execution_count": 576,
     "metadata": {},
     "output_type": "execute_result"
    }
   ],
   "source": [
    "eds_df = pd.DataFrame(eds_cols)\n",
    "eds_df"
   ]
  },
  {
   "cell_type": "code",
   "execution_count": 534,
   "metadata": {},
   "outputs": [],
   "source": [
    "#---------------------------------------------------------#\n",
    "# Transform to functions to use\n",
    "#---------------------------------------------------------#"
   ]
  },
  {
   "cell_type": "code",
   "execution_count": 603,
   "metadata": {},
   "outputs": [],
   "source": [
    "def read_data(name):\n",
    "    # file location for the csv file\n",
    "    file = name #\"./noon_data.csv\"\n",
    "    # return pandas dataframe of the csv file\n",
    "    df = pd.read_csv(file)\n",
    "    # remove all NaN entries\n",
    "    df.drop(df.filter(regex=\"Unname\"),axis=1, inplace=True)\n",
    "    a=df.iterrows()\n",
    "    i = 0\n",
    "    for index,row in a:\n",
    "        if math.isnan(row[2]):\n",
    "            break\n",
    "        else:\n",
    "            i = i + 1\n",
    "    table = df[0:i]\n",
    "    \n",
    "    return table"
   ]
  },
  {
   "cell_type": "code",
   "execution_count": 535,
   "metadata": {},
   "outputs": [],
   "source": [
    "def sort_dates(eds_cols, window):\n",
    "    # declare initial variables\n",
    "    col_name = 'Date'\n",
    "    counter = 0\n",
    "    date_string = ''\n",
    "    new_col = {col_name:[]}\n",
    "    # go through the Date column of the noon data csv file\n",
    "    for x in df[col_name]:\n",
    "        if counter == 0:\n",
    "            # store the first date to date_string\n",
    "            date_string = date_string + x + '-'\n",
    "            # increase counter\n",
    "            counter = counter + 1\n",
    "        elif counter == ((window*2)-1):\n",
    "            # store the last date\n",
    "            date_string = date_string + x\n",
    "            # store to dictionary for dataframe for pre and post entry\n",
    "            new_col[col_name].append(date_string)\n",
    "            new_col[col_name].append(date_string)\n",
    "            # reset date_string\n",
    "            date_string = ''\n",
    "            # reset counter\n",
    "            counter = 0\n",
    "        else:\n",
    "            # increase counter\n",
    "            counter = counter + 1\n",
    "    eds_cols.update(new_col)\n",
    "    return eds_cols"
   ]
  },
  {
   "cell_type": "code",
   "execution_count": 544,
   "metadata": {},
   "outputs": [],
   "source": [
    "def sort_time(eds_cols, window):\n",
    "    # declare initial variables\n",
    "    col_name = 'Time'\n",
    "    counter = 0\n",
    "    index_counter = 0\n",
    "    pre_time_data=[]\n",
    "    post_time_data=[]\n",
    "    new_col = {col_name:[]}\n",
    "    # go through the Time column of the noon data csv file\n",
    "    for x in df[col_name]:\n",
    "        # convert time to seconds\n",
    "        a,b,c = x.split(':')\n",
    "        hour = int(a)*60*60\n",
    "        minute = int(b)*60\n",
    "        second = int(c)\n",
    "        total_sec = hour + minute + second\n",
    "        if counter == ((window*2)-1):\n",
    "            # append the nth data for post time\n",
    "            post_time_data.append(total_sec)\n",
    "            index_counter = 0\n",
    "            # take average seconds\n",
    "            pre_time_avg = sum(pre_time_data)/window\n",
    "            post_time_avg = sum(post_time_data)/window\n",
    "            # convert seconds back to time string using datetime\n",
    "            pre_time = str(datetime.timedelta(seconds = int(pre_time_avg)))\n",
    "            post_time = str(datetime.timedelta(seconds = int(post_time_avg)))\n",
    "            # append to the dictionary\n",
    "            new_col[col_name].append(pre_time)\n",
    "            new_col[col_name].append(post_time)\n",
    "            # reset counter\n",
    "            counter = 0\n",
    "            pre_time_data = []\n",
    "            post_time_data = []\n",
    "        else:\n",
    "            # seperate pre and post time data points\n",
    "            if index_counter % 2 == 0:\n",
    "                # append time data for pre measurements\n",
    "                pre_time_data.append(total_sec)\n",
    "                index_counter = index_counter + 1\n",
    "            else:\n",
    "                # append time data for post measurements\n",
    "                post_time_data.append(total_sec)\n",
    "                index_counter = 0\n",
    "            # increase counter\n",
    "            counter = counter + 1\n",
    "    eds_cols.update(new_col)\n",
    "    return eds_cols"
   ]
  },
  {
   "cell_type": "code",
   "execution_count": 539,
   "metadata": {},
   "outputs": [],
   "source": [
    "def sort_labels(eds_cols, window):\n",
    "    # declare initial variables\n",
    "    col_name = 'PRE/POST'\n",
    "    col_name2 = 'EDS/CTRL(#)'\n",
    "    counter = 0\n",
    "    new_col = {col_name:[]}\n",
    "    new_col2= {col_name2:[]}\n",
    "    # go through the labels column of the noon data csv file\n",
    "    for x in df[col_name]:\n",
    "        if counter == ((window*2)-1):\n",
    "            # append PRE\n",
    "            new_col[col_name].append(\"PRE\")\n",
    "            # append POST\n",
    "            new_col[col_name].append(\"POST\")\n",
    "            # append EDS number\n",
    "            new_col2[col_name2].append(\"EDS1\")\n",
    "            new_col2[col_name2].append(\"EDS1\")\n",
    "            # reset counter\n",
    "            counter = 0\n",
    "        else:\n",
    "            # increase counter\n",
    "            counter = counter + 1\n",
    "    eds_cols.update(new_col)\n",
    "    eds_cols.update(new_col2)\n",
    "    return eds_cols"
   ]
  },
  {
   "cell_type": "code",
   "execution_count": 583,
   "metadata": {},
   "outputs": [],
   "source": [
    "def sort_data(name, eds_cols, window):\n",
    "    # declare initial variables\n",
    "    col_name = name #'Temperature(C)'\n",
    "    counter = 0\n",
    "    index_counter = 0\n",
    "    pre_data = []\n",
    "    post_data = []\n",
    "    pre_avg = 0\n",
    "    post_avg = 0\n",
    "    new_col = {col_name:[]}\n",
    "    # go through the measurements data columns of the noon data csv file\n",
    "    for x in df[col_name]:\n",
    "        if counter == ((window*2)-1):\n",
    "            # seperate pre and post for nth data\n",
    "            post_data.append(x)\n",
    "            index_counter=0\n",
    "            # get average value from pre post lists\n",
    "            pre_avg = sum(pre_data)/window\n",
    "            post_avg = sum(post_data)/window\n",
    "            # append results to new dataframe\n",
    "            new_col[col_name].append(pre_avg)\n",
    "            new_col[col_name].append(post_avg)\n",
    "            # reset counter\n",
    "            counter = 0\n",
    "            pre_data=[]\n",
    "            post_data=[]\n",
    "        else:\n",
    "            # seperate pre and post data points\n",
    "            if index_counter % 2 == 0:\n",
    "                pre_data.append(x)\n",
    "                index_counter = index_counter + 1\n",
    "            else:\n",
    "                post_data.append(x)\n",
    "                index_counter = 0\n",
    "            # increase counter\n",
    "            counter = counter + 1\n",
    "    eds_cols.update(new_col)\n",
    "    return eds_cols"
   ]
  },
  {
   "cell_type": "code",
   "execution_count": 608,
   "metadata": {},
   "outputs": [],
   "source": [
    "def get_avg_noon_data(cols_list, window):\n",
    "    # read the noon_data csv file\n",
    "    df = read_data(\"./noon_data.csv\")\n",
    "    # declare new dictionary for avg data\n",
    "    eds_cols = {}\n",
    "    # sort the date\n",
    "    eds_cols = sort_dates(eds_cols, window)\n",
    "    # sort the time\n",
    "    eds_cols = sort_time(eds_cols, window)\n",
    "    # sort the pre/post, EDS number\n",
    "    eds_cols = sort_labels(eds_cols, window)\n",
    "    # sort all the numerical data\n",
    "    for x in cols_list:\n",
    "        eds_cols = sort_data(x, eds_cols, window)\n",
    "    # create new dataframe\n",
    "    eds_df = pd.DataFrame(eds_cols)\n",
    "    return eds_df"
   ]
  },
  {
   "cell_type": "code",
   "execution_count": 616,
   "metadata": {},
   "outputs": [
    {
     "data": {
      "text/html": [
       "<div>\n",
       "<style scoped>\n",
       "    .dataframe tbody tr th:only-of-type {\n",
       "        vertical-align: middle;\n",
       "    }\n",
       "\n",
       "    .dataframe tbody tr th {\n",
       "        vertical-align: top;\n",
       "    }\n",
       "\n",
       "    .dataframe thead th {\n",
       "        text-align: right;\n",
       "    }\n",
       "</style>\n",
       "<table border=\"1\" class=\"dataframe\">\n",
       "  <thead>\n",
       "    <tr style=\"text-align: right;\">\n",
       "      <th></th>\n",
       "      <th>Date</th>\n",
       "      <th>Time</th>\n",
       "      <th>PRE/POST</th>\n",
       "      <th>EDS/CTRL(#)</th>\n",
       "      <th>Temperature(C)</th>\n",
       "      <th>Humidity(%)</th>\n",
       "      <th>GPOA(W/M2)</th>\n",
       "      <th>OCV(V)</th>\n",
       "      <th>SCC(A)</th>\n",
       "      <th>Power(W)</th>\n",
       "      <th>PR</th>\n",
       "      <th>SR</th>\n",
       "    </tr>\n",
       "  </thead>\n",
       "  <tbody>\n",
       "    <tr>\n",
       "      <td>0</td>\n",
       "      <td>1/27/2020-2/10/2020</td>\n",
       "      <td>12:34:01</td>\n",
       "      <td>PRE</td>\n",
       "      <td>EDS1</td>\n",
       "      <td>32.666667</td>\n",
       "      <td>28.160000</td>\n",
       "      <td>276.000000</td>\n",
       "      <td>17.133333</td>\n",
       "      <td>0.414667</td>\n",
       "      <td>30.066667</td>\n",
       "      <td>95.133333</td>\n",
       "      <td>97.133333</td>\n",
       "    </tr>\n",
       "    <tr>\n",
       "      <td>1</td>\n",
       "      <td>1/27/2020-2/10/2020</td>\n",
       "      <td>12:35:20</td>\n",
       "      <td>POST</td>\n",
       "      <td>EDS1</td>\n",
       "      <td>32.666667</td>\n",
       "      <td>30.333333</td>\n",
       "      <td>242.666667</td>\n",
       "      <td>17.133333</td>\n",
       "      <td>0.432000</td>\n",
       "      <td>31.000000</td>\n",
       "      <td>95.133333</td>\n",
       "      <td>97.133333</td>\n",
       "    </tr>\n",
       "  </tbody>\n",
       "</table>\n",
       "</div>"
      ],
      "text/plain": [
       "                  Date      Time PRE/POST EDS/CTRL(#)  Temperature(C)  \\\n",
       "0  1/27/2020-2/10/2020  12:34:01      PRE        EDS1       32.666667   \n",
       "1  1/27/2020-2/10/2020  12:35:20     POST        EDS1       32.666667   \n",
       "\n",
       "   Humidity(%)  GPOA(W/M2)     OCV(V)    SCC(A)   Power(W)         PR  \\\n",
       "0    28.160000  276.000000  17.133333  0.414667  30.066667  95.133333   \n",
       "1    30.333333  242.666667  17.133333  0.432000  31.000000  95.133333   \n",
       "\n",
       "          SR  \n",
       "0  97.133333  \n",
       "1  97.133333  "
      ]
     },
     "execution_count": 616,
     "metadata": {},
     "output_type": "execute_result"
    }
   ],
   "source": [
    "# declare metrics for noon data table\n",
    "cols_list = ['Temperature(C)', 'Humidity(%)', 'GPOA(W/M2)', 'OCV(V)', 'SCC(A)', 'Power(W)', 'PR', 'SR']\n",
    "# call the function\n",
    "eds = get_avg_noon_data(cols_list, 15)\n",
    "eds"
   ]
  },
  {
   "cell_type": "code",
   "execution_count": null,
   "metadata": {},
   "outputs": [],
   "source": []
  }
 ],
 "metadata": {
  "kernelspec": {
   "display_name": "Python 3",
   "language": "python",
   "name": "python3"
  },
  "language_info": {
   "codemirror_mode": {
    "name": "ipython",
    "version": 3
   },
   "file_extension": ".py",
   "mimetype": "text/x-python",
   "name": "python",
   "nbconvert_exporter": "python",
   "pygments_lexer": "ipython3",
   "version": "3.7.4"
  }
 },
 "nbformat": 4,
 "nbformat_minor": 4
}
