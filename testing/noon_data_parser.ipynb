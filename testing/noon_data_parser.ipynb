{
 "cells": [
  {
   "cell_type": "code",
   "execution_count": 2,
   "metadata": {},
   "outputs": [],
   "source": [
    "import pandas as pd\n",
    "import numpy as np\n",
    "import math\n",
    "import datetime"
   ]
  },
  {
   "cell_type": "code",
   "execution_count": 597,
   "metadata": {},
   "outputs": [],
   "source": [
    "#---------------------------------------------------------#\n",
    "# Prototyping\n",
    "#---------------------------------------------------------#"
   ]
  },
  {
   "cell_type": "code",
   "execution_count": 549,
   "metadata": {},
   "outputs": [],
   "source": [
    "# get the csv file"
   ]
  },
  {
   "cell_type": "code",
   "execution_count": 18,
   "metadata": {},
   "outputs": [
    {
     "ename": "TypeError",
     "evalue": "must be real number, not str",
     "output_type": "error",
     "traceback": [
      "\u001b[0;31m---------------------------------------------------------------------------\u001b[0m",
      "\u001b[0;31mTypeError\u001b[0m                                 Traceback (most recent call last)",
      "\u001b[0;32m<ipython-input-18-119acc4bfa68>\u001b[0m in \u001b[0;36m<module>\u001b[0;34m\u001b[0m\n\u001b[1;32m      9\u001b[0m \u001b[0mi\u001b[0m \u001b[0;34m=\u001b[0m \u001b[0;36m0\u001b[0m\u001b[0;34m\u001b[0m\u001b[0;34m\u001b[0m\u001b[0m\n\u001b[1;32m     10\u001b[0m \u001b[0;32mfor\u001b[0m \u001b[0mindex\u001b[0m\u001b[0;34m,\u001b[0m\u001b[0mrow\u001b[0m \u001b[0;32min\u001b[0m \u001b[0ma\u001b[0m\u001b[0;34m:\u001b[0m\u001b[0;34m\u001b[0m\u001b[0;34m\u001b[0m\u001b[0m\n\u001b[0;32m---> 11\u001b[0;31m     \u001b[0;32mif\u001b[0m \u001b[0mmath\u001b[0m\u001b[0;34m.\u001b[0m\u001b[0misnan\u001b[0m\u001b[0;34m(\u001b[0m\u001b[0mrow\u001b[0m\u001b[0;34m[\u001b[0m\u001b[0;36m2\u001b[0m\u001b[0;34m]\u001b[0m\u001b[0;34m)\u001b[0m\u001b[0;34m:\u001b[0m\u001b[0;34m\u001b[0m\u001b[0;34m\u001b[0m\u001b[0m\n\u001b[0m\u001b[1;32m     12\u001b[0m         \u001b[0;32mbreak\u001b[0m\u001b[0;34m\u001b[0m\u001b[0;34m\u001b[0m\u001b[0m\n\u001b[1;32m     13\u001b[0m     \u001b[0;32melse\u001b[0m\u001b[0;34m:\u001b[0m\u001b[0;34m\u001b[0m\u001b[0;34m\u001b[0m\u001b[0m\n",
      "\u001b[0;31mTypeError\u001b[0m: must be real number, not str"
     ]
    }
   ],
   "source": [
    "# file location for the csv file\n",
    "file = \"./noon_sorted.csv\"\n",
    "\n",
    "# Return all but first 2 lines of csv to get data:\n",
    "df = pd.read_csv(file)\n",
    "df.drop(df.filter(regex=\"Unname\"),axis=1, inplace=True)\n",
    "a=df.iterrows()\n",
    "\n",
    "i = 0\n",
    "for index,row in a:\n",
    "    if math.isnan(row[2]):\n",
    "        break\n",
    "    else:\n",
    "        i = i + 1\n",
    "table = df[0:i]\n",
    "table.tail(50)"
   ]
  },
  {
   "cell_type": "code",
   "execution_count": 629,
   "metadata": {},
   "outputs": [],
   "source": [
    "# define dictionary for new table"
   ]
  },
  {
   "cell_type": "code",
   "execution_count": 947,
   "metadata": {},
   "outputs": [],
   "source": [
    "eds_cols = {}\n",
    "window = 7"
   ]
  },
  {
   "cell_type": "code",
   "execution_count": 926,
   "metadata": {},
   "outputs": [],
   "source": [
    "# sort date based on time window"
   ]
  },
  {
   "cell_type": "code",
   "execution_count": 927,
   "metadata": {},
   "outputs": [],
   "source": [
    "col_name = 'Date'\n",
    "counter = 0\n",
    "date_string = ''\n",
    "new_col = {col_name:[]}"
   ]
  },
  {
   "cell_type": "code",
   "execution_count": 943,
   "metadata": {},
   "outputs": [],
   "source": [
    "for x in df[col_name]:\n",
    "    if counter == 0:\n",
    "        # store the first date to date_string\n",
    "        date_string = date_string + x + '-'\n",
    "        # increase counter\n",
    "        counter = counter + 1\n",
    "    elif counter == ((window*14)-1):\n",
    "        # store the last date\n",
    "        date_string = date_string + x\n",
    "        # store to dictionary for dataframe for pre and post entry\n",
    "        for x in range (14):\n",
    "            new_col[col_name].append(date_string)\n",
    "        # reset date_string\n",
    "        date_string = ''\n",
    "        # reset counter\n",
    "        counter = 0\n",
    "    else:\n",
    "        # increase counter\n",
    "        counter = counter + 1\n",
    "eds_cols.update(new_col)   "
   ]
  },
  {
   "cell_type": "code",
   "execution_count": 929,
   "metadata": {},
   "outputs": [],
   "source": [
    "#eds_cols"
   ]
  },
  {
   "cell_type": "code",
   "execution_count": 930,
   "metadata": {},
   "outputs": [],
   "source": [
    "# solar noon time sorting"
   ]
  },
  {
   "cell_type": "code",
   "execution_count": 931,
   "metadata": {},
   "outputs": [],
   "source": [
    "col_name = 'Time'\n",
    "counter = 0\n",
    "index_counter = 0\n",
    "pre_data = [0,0,0,0,0,0,0]\n",
    "post_data = [0,0,0,0,0,0,0]\n",
    "new_col = {col_name:[]}"
   ]
  },
  {
   "cell_type": "code",
   "execution_count": 932,
   "metadata": {},
   "outputs": [],
   "source": [
    "for x in df[col_name]:\n",
    "    # convert time to seconds\n",
    "    a,b,c = x.split(':')\n",
    "    hour = int(a)*60*60\n",
    "    minute = int(b)*60\n",
    "    second = int(c)\n",
    "    total_sec = hour + minute + second\n",
    "    if counter == ((window*14)-1):\n",
    "        # modify nth time data\n",
    "        post_data[6] = post_data[6] + total_sec\n",
    "        # take average seconds for pre data\n",
    "        avg_pre_data = []\n",
    "        for x in pre_data:\n",
    "            avg_pre_data.append(x/window)\n",
    "        # take average seconds for post data\n",
    "        avg_post_data = []\n",
    "        for x in post_data:\n",
    "            avg_post_data.append(x/window)\n",
    "        # convert seconds back to time string using datetime for pre data\n",
    "        pre_time = []\n",
    "        for x in avg_pre_data:\n",
    "            pre_time.append(str(datetime.timedelta(seconds = int(x))))\n",
    "        # convert seconds back to time string using datetime for post data\n",
    "        post_time = []\n",
    "        for x in avg_post_data:\n",
    "            post_time.append(str(datetime.timedelta(seconds = int(x))))\n",
    "        # append to the dictionary\n",
    "        total_data = pre_time + post_time\n",
    "        new_col[col_name] = new_col[col_name]+ total_data\n",
    "        # reset counter\n",
    "        index_counter = 0\n",
    "        counter = 0\n",
    "        pre_data = [0,0,0,0,0,0,0]\n",
    "        post_data = [0,0,0,0,0,0,0]\n",
    "        total_data = []\n",
    "    else:\n",
    "        # check if its pre or post date points\n",
    "        if index_counter < 7:\n",
    "            pre_data[index_counter] = pre_data[index_counter] + total_sec\n",
    "            # increase counters\n",
    "            index_counter = index_counter + 1\n",
    "            counter = counter + 1\n",
    "        else:\n",
    "            if index_counter == 14:\n",
    "                pre_data[0] = pre_data[0] + total_sec\n",
    "                # increase counters\n",
    "                index_counter = 1\n",
    "                counter = counter + 1\n",
    "            else:\n",
    "                # modify time data\n",
    "                post_data[index_counter-7] = post_data[index_counter-7] + total_sec\n",
    "                # increase counters\n",
    "                index_counter = index_counter + 1\n",
    "                counter = counter + 1\n",
    "eds_cols.update(new_col)"
   ]
  },
  {
   "cell_type": "code",
   "execution_count": null,
   "metadata": {},
   "outputs": [],
   "source": []
  },
  {
   "cell_type": "code",
   "execution_count": 933,
   "metadata": {},
   "outputs": [],
   "source": [
    "# numerical data sorting"
   ]
  },
  {
   "cell_type": "code",
   "execution_count": 934,
   "metadata": {},
   "outputs": [],
   "source": [
    "col_name = 'Temperature(C)'\n",
    "counter = 0\n",
    "index_counter = 0\n",
    "pre_data = [0,0,0,0,0,0,0]\n",
    "post_data = [0,0,0,0,0,0,0]\n",
    "new_col = {col_name:[]}"
   ]
  },
  {
   "cell_type": "code",
   "execution_count": 935,
   "metadata": {},
   "outputs": [],
   "source": [
    "for x in df[col_name]:\n",
    "    if counter == ((window*14)-1):\n",
    "        # modify nth time data\n",
    "        post_data[6] = post_data[6] + x\n",
    "        # take average seconds for pre data\n",
    "        avg_pre_data = []\n",
    "        for i in pre_data:\n",
    "            avg_pre_data.append(i/window)\n",
    "        # take average seconds for post data\n",
    "        avg_post_data = []\n",
    "        for i in post_data:\n",
    "            avg_post_data.append(i/window)\n",
    "        # append to the dictionary\n",
    "        total_data = avg_pre_data + avg_post_data\n",
    "        new_col[col_name] = new_col[col_name]+ total_data\n",
    "        # reset counter\n",
    "        index_counter = 0\n",
    "        counter = 0\n",
    "        pre_data = [0,0,0,0,0,0,0]\n",
    "        post_data = [0,0,0,0,0,0,0]\n",
    "        total_data = []\n",
    "    else:\n",
    "        # check if its pre or post date points\n",
    "        if index_counter < 7:\n",
    "            pre_data[index_counter] = pre_data[index_counter] + x\n",
    "            # increase counters\n",
    "            index_counter = index_counter + 1\n",
    "            counter = counter + 1\n",
    "        else:\n",
    "            if index_counter == 14:\n",
    "                pre_data[0] = pre_data[0] + x\n",
    "                # increase counters\n",
    "                index_counter = 1\n",
    "                counter = counter + 1\n",
    "            else:\n",
    "                # modify time data\n",
    "                post_data[index_counter-7] = post_data[index_counter-7] + x\n",
    "                # increase counters\n",
    "                index_counter = index_counter + 1\n",
    "                counter = counter + 1\n",
    "eds_cols.update(new_col)"
   ]
  },
  {
   "cell_type": "code",
   "execution_count": 937,
   "metadata": {},
   "outputs": [],
   "source": [
    "#eds_df = pd.DataFrame(eds_cols)"
   ]
  },
  {
   "cell_type": "code",
   "execution_count": 938,
   "metadata": {},
   "outputs": [],
   "source": [
    "# pre/post label sorting, "
   ]
  },
  {
   "cell_type": "code",
   "execution_count": 939,
   "metadata": {},
   "outputs": [],
   "source": [
    "col_name = 'PRE/POST'\n",
    "col_name2 = 'EDS/CTRL(#)'\n",
    "counter = 0\n",
    "new_col = {col_name:[]}\n",
    "new_col2= {col_name2:[]}"
   ]
  },
  {
   "cell_type": "code",
   "execution_count": 945,
   "metadata": {},
   "outputs": [],
   "source": [
    "for x in df[col_name]:\n",
    "    if counter == ((window*14)-1):\n",
    "        # append PRE\n",
    "        for x in range(7):\n",
    "            new_col[col_name].append(\"PRE\")\n",
    "        # append EDS number\n",
    "        for x in range(5):\n",
    "            new_col2[col_name2].append(\"EDS\"+str(x+1))\n",
    "        # append CTRL unmber\n",
    "        new_col2[col_name2].append(\"CTRL1\")\n",
    "        new_col2[col_name2].append(\"CTRL2\")\n",
    "        \n",
    "        # append POST\n",
    "        for x in range(7):\n",
    "            new_col[col_name].append(\"POST\")\n",
    "        # append EDS number\n",
    "        for x in range(5):\n",
    "            new_col2[col_name2].append(\"EDS\"+str(x+1))\n",
    "        # append CTRL unmber\n",
    "        new_col2[col_name2].append(\"CTRL1\")\n",
    "        new_col2[col_name2].append(\"CTRL2\")\n",
    "        # reset counter\n",
    "        counter = 0\n",
    "    else:\n",
    "        # increase counter\n",
    "        counter = counter + 1\n",
    "eds_cols.update(new_col)\n",
    "eds_cols.update(new_col2)\n",
    "#eds_cols"
   ]
  },
  {
   "cell_type": "code",
   "execution_count": 941,
   "metadata": {},
   "outputs": [],
   "source": [
    "# create new dataframe"
   ]
  },
  {
   "cell_type": "code",
   "execution_count": 946,
   "metadata": {},
   "outputs": [
    {
     "ename": "ValueError",
     "evalue": "arrays must all be same length",
     "output_type": "error",
     "traceback": [
      "\u001b[1;31m---------------------------------------------------------------------------\u001b[0m",
      "\u001b[1;31mValueError\u001b[0m                                Traceback (most recent call last)",
      "\u001b[1;32m<ipython-input-946-d6ecaf4039eb>\u001b[0m in \u001b[0;36m<module>\u001b[1;34m\u001b[0m\n\u001b[1;32m----> 1\u001b[1;33m \u001b[0meds_df\u001b[0m \u001b[1;33m=\u001b[0m \u001b[0mpd\u001b[0m\u001b[1;33m.\u001b[0m\u001b[0mDataFrame\u001b[0m\u001b[1;33m(\u001b[0m\u001b[0meds_cols\u001b[0m\u001b[1;33m)\u001b[0m\u001b[1;33m\u001b[0m\u001b[1;33m\u001b[0m\u001b[0m\n\u001b[0m\u001b[0;32m      2\u001b[0m \u001b[1;31m#eds_df\u001b[0m\u001b[1;33m\u001b[0m\u001b[1;33m\u001b[0m\u001b[1;33m\u001b[0m\u001b[0m\n",
      "\u001b[1;32m~\\Anaconda3\\lib\\site-packages\\pandas\\core\\frame.py\u001b[0m in \u001b[0;36m__init__\u001b[1;34m(self, data, index, columns, dtype, copy)\u001b[0m\n\u001b[0;32m    409\u001b[0m             )\n\u001b[0;32m    410\u001b[0m         \u001b[1;32melif\u001b[0m \u001b[0misinstance\u001b[0m\u001b[1;33m(\u001b[0m\u001b[0mdata\u001b[0m\u001b[1;33m,\u001b[0m \u001b[0mdict\u001b[0m\u001b[1;33m)\u001b[0m\u001b[1;33m:\u001b[0m\u001b[1;33m\u001b[0m\u001b[1;33m\u001b[0m\u001b[0m\n\u001b[1;32m--> 411\u001b[1;33m             \u001b[0mmgr\u001b[0m \u001b[1;33m=\u001b[0m \u001b[0minit_dict\u001b[0m\u001b[1;33m(\u001b[0m\u001b[0mdata\u001b[0m\u001b[1;33m,\u001b[0m \u001b[0mindex\u001b[0m\u001b[1;33m,\u001b[0m \u001b[0mcolumns\u001b[0m\u001b[1;33m,\u001b[0m \u001b[0mdtype\u001b[0m\u001b[1;33m=\u001b[0m\u001b[0mdtype\u001b[0m\u001b[1;33m)\u001b[0m\u001b[1;33m\u001b[0m\u001b[1;33m\u001b[0m\u001b[0m\n\u001b[0m\u001b[0;32m    412\u001b[0m         \u001b[1;32melif\u001b[0m \u001b[0misinstance\u001b[0m\u001b[1;33m(\u001b[0m\u001b[0mdata\u001b[0m\u001b[1;33m,\u001b[0m \u001b[0mma\u001b[0m\u001b[1;33m.\u001b[0m\u001b[0mMaskedArray\u001b[0m\u001b[1;33m)\u001b[0m\u001b[1;33m:\u001b[0m\u001b[1;33m\u001b[0m\u001b[1;33m\u001b[0m\u001b[0m\n\u001b[0;32m    413\u001b[0m             \u001b[1;32mimport\u001b[0m \u001b[0mnumpy\u001b[0m\u001b[1;33m.\u001b[0m\u001b[0mma\u001b[0m\u001b[1;33m.\u001b[0m\u001b[0mmrecords\u001b[0m \u001b[1;32mas\u001b[0m \u001b[0mmrecords\u001b[0m\u001b[1;33m\u001b[0m\u001b[1;33m\u001b[0m\u001b[0m\n",
      "\u001b[1;32m~\\Anaconda3\\lib\\site-packages\\pandas\\core\\internals\\construction.py\u001b[0m in \u001b[0;36minit_dict\u001b[1;34m(data, index, columns, dtype)\u001b[0m\n\u001b[0;32m    255\u001b[0m             \u001b[0marr\u001b[0m \u001b[1;32mif\u001b[0m \u001b[1;32mnot\u001b[0m \u001b[0mis_datetime64tz_dtype\u001b[0m\u001b[1;33m(\u001b[0m\u001b[0marr\u001b[0m\u001b[1;33m)\u001b[0m \u001b[1;32melse\u001b[0m \u001b[0marr\u001b[0m\u001b[1;33m.\u001b[0m\u001b[0mcopy\u001b[0m\u001b[1;33m(\u001b[0m\u001b[1;33m)\u001b[0m \u001b[1;32mfor\u001b[0m \u001b[0marr\u001b[0m \u001b[1;32min\u001b[0m \u001b[0marrays\u001b[0m\u001b[1;33m\u001b[0m\u001b[1;33m\u001b[0m\u001b[0m\n\u001b[0;32m    256\u001b[0m         ]\n\u001b[1;32m--> 257\u001b[1;33m     \u001b[1;32mreturn\u001b[0m \u001b[0marrays_to_mgr\u001b[0m\u001b[1;33m(\u001b[0m\u001b[0marrays\u001b[0m\u001b[1;33m,\u001b[0m \u001b[0mdata_names\u001b[0m\u001b[1;33m,\u001b[0m \u001b[0mindex\u001b[0m\u001b[1;33m,\u001b[0m \u001b[0mcolumns\u001b[0m\u001b[1;33m,\u001b[0m \u001b[0mdtype\u001b[0m\u001b[1;33m=\u001b[0m\u001b[0mdtype\u001b[0m\u001b[1;33m)\u001b[0m\u001b[1;33m\u001b[0m\u001b[1;33m\u001b[0m\u001b[0m\n\u001b[0m\u001b[0;32m    258\u001b[0m \u001b[1;33m\u001b[0m\u001b[0m\n\u001b[0;32m    259\u001b[0m \u001b[1;33m\u001b[0m\u001b[0m\n",
      "\u001b[1;32m~\\Anaconda3\\lib\\site-packages\\pandas\\core\\internals\\construction.py\u001b[0m in \u001b[0;36marrays_to_mgr\u001b[1;34m(arrays, arr_names, index, columns, dtype)\u001b[0m\n\u001b[0;32m     75\u001b[0m     \u001b[1;31m# figure out the index, if necessary\u001b[0m\u001b[1;33m\u001b[0m\u001b[1;33m\u001b[0m\u001b[1;33m\u001b[0m\u001b[0m\n\u001b[0;32m     76\u001b[0m     \u001b[1;32mif\u001b[0m \u001b[0mindex\u001b[0m \u001b[1;32mis\u001b[0m \u001b[1;32mNone\u001b[0m\u001b[1;33m:\u001b[0m\u001b[1;33m\u001b[0m\u001b[1;33m\u001b[0m\u001b[0m\n\u001b[1;32m---> 77\u001b[1;33m         \u001b[0mindex\u001b[0m \u001b[1;33m=\u001b[0m \u001b[0mextract_index\u001b[0m\u001b[1;33m(\u001b[0m\u001b[0marrays\u001b[0m\u001b[1;33m)\u001b[0m\u001b[1;33m\u001b[0m\u001b[1;33m\u001b[0m\u001b[0m\n\u001b[0m\u001b[0;32m     78\u001b[0m     \u001b[1;32melse\u001b[0m\u001b[1;33m:\u001b[0m\u001b[1;33m\u001b[0m\u001b[1;33m\u001b[0m\u001b[0m\n\u001b[0;32m     79\u001b[0m         \u001b[0mindex\u001b[0m \u001b[1;33m=\u001b[0m \u001b[0mensure_index\u001b[0m\u001b[1;33m(\u001b[0m\u001b[0mindex\u001b[0m\u001b[1;33m)\u001b[0m\u001b[1;33m\u001b[0m\u001b[1;33m\u001b[0m\u001b[0m\n",
      "\u001b[1;32m~\\Anaconda3\\lib\\site-packages\\pandas\\core\\internals\\construction.py\u001b[0m in \u001b[0;36mextract_index\u001b[1;34m(data)\u001b[0m\n\u001b[0;32m    366\u001b[0m             \u001b[0mlengths\u001b[0m \u001b[1;33m=\u001b[0m \u001b[0mlist\u001b[0m\u001b[1;33m(\u001b[0m\u001b[0mset\u001b[0m\u001b[1;33m(\u001b[0m\u001b[0mraw_lengths\u001b[0m\u001b[1;33m)\u001b[0m\u001b[1;33m)\u001b[0m\u001b[1;33m\u001b[0m\u001b[1;33m\u001b[0m\u001b[0m\n\u001b[0;32m    367\u001b[0m             \u001b[1;32mif\u001b[0m \u001b[0mlen\u001b[0m\u001b[1;33m(\u001b[0m\u001b[0mlengths\u001b[0m\u001b[1;33m)\u001b[0m \u001b[1;33m>\u001b[0m \u001b[1;36m1\u001b[0m\u001b[1;33m:\u001b[0m\u001b[1;33m\u001b[0m\u001b[1;33m\u001b[0m\u001b[0m\n\u001b[1;32m--> 368\u001b[1;33m                 \u001b[1;32mraise\u001b[0m \u001b[0mValueError\u001b[0m\u001b[1;33m(\u001b[0m\u001b[1;34m\"arrays must all be same length\"\u001b[0m\u001b[1;33m)\u001b[0m\u001b[1;33m\u001b[0m\u001b[1;33m\u001b[0m\u001b[0m\n\u001b[0m\u001b[0;32m    369\u001b[0m \u001b[1;33m\u001b[0m\u001b[0m\n\u001b[0;32m    370\u001b[0m             \u001b[1;32mif\u001b[0m \u001b[0mhave_dicts\u001b[0m\u001b[1;33m:\u001b[0m\u001b[1;33m\u001b[0m\u001b[1;33m\u001b[0m\u001b[0m\n",
      "\u001b[1;31mValueError\u001b[0m: arrays must all be same length"
     ]
    }
   ],
   "source": [
    "eds_df = pd.DataFrame(eds_cols)\n",
    "#eds_df"
   ]
  },
  {
   "cell_type": "code",
   "execution_count": 534,
   "metadata": {},
   "outputs": [],
   "source": [
    "#---------------------------------------------------------#\n",
    "# Transform to functions to use\n",
    "#---------------------------------------------------------#"
   ]
  },
  {
   "cell_type": "code",
   "execution_count": 3,
   "metadata": {},
   "outputs": [],
   "source": [
    "def read_data(name):\n",
    "    # file location for the csv file\n",
    "    file = name\n",
    "    # return pandas dataframe of the csv file\n",
    "    df = pd.read_csv(file)\n",
    "    # remove all NaN entries\n",
    "    df.drop(df.filter(regex=\"Unname\"),axis=1, inplace=True)\n",
    "    a=df.iterrows()\n",
    "    i = 0\n",
    "    for index,row in a:\n",
    "        if math.isnan(row[2]):\n",
    "            break\n",
    "        else:\n",
    "            i = i + 1\n",
    "    table = df[0:i]\n",
    "    return table"
   ]
  },
  {
   "cell_type": "code",
   "execution_count": 4,
   "metadata": {},
   "outputs": [],
   "source": [
    "def sort_dates(eds_cols, window):\n",
    "    # read the noon_data csv file\n",
    "    df = read_data(\"./noon_data.csv\")\n",
    "    # declare initial variables\n",
    "    col_name = 'Date'\n",
    "    counter = 0\n",
    "    date_string = ''\n",
    "    new_col = {col_name:[]}\n",
    "    # go through the Date column of the noon data csv file\n",
    "    for x in df[col_name]:\n",
    "        if counter == 0:\n",
    "            # store the first date to date_string\n",
    "            date_string = date_string + x + '-'\n",
    "            # increase counter\n",
    "            counter = counter + 1\n",
    "        elif counter == ((window*14)-1):\n",
    "            # store the last date\n",
    "            date_string = date_string + x\n",
    "            # store to dictionary for dataframe for pre and post entry\n",
    "            for x in range (14):\n",
    "                new_col[col_name].append(date_string)\n",
    "            # reset date_string\n",
    "            date_string = ''\n",
    "            # reset counter\n",
    "            counter = 0\n",
    "        else:\n",
    "            # increase counter\n",
    "            counter = counter + 1\n",
    "    eds_cols.update(new_col) \n",
    "    return eds_cols"
   ]
  },
  {
   "cell_type": "code",
   "execution_count": 5,
   "metadata": {},
   "outputs": [],
   "source": [
    "def sort_time(eds_cols, window):\n",
    "    # read the noon_data csv file\n",
    "    df = read_data(\"./noon_data.csv\")\n",
    "    # declare initial variables\n",
    "    col_name = 'Time'\n",
    "    counter = 0\n",
    "    index_counter = 0\n",
    "    pre_data = [0,0,0,0,0,0,0]\n",
    "    post_data = [0,0,0,0,0,0,0]\n",
    "    new_col = {col_name:[]}\n",
    "    # go through the Time column of the noon data csv file\n",
    "    for x in df[col_name]:\n",
    "        # convert time to seconds\n",
    "        a,b,c = x.split(':')\n",
    "        hour = int(a)*60*60\n",
    "        minute = int(b)*60\n",
    "        second = int(c)\n",
    "        total_sec = hour + minute + second\n",
    "        if counter == ((window*14)-1):\n",
    "            # modify nth time data\n",
    "            post_data[6] = post_data[6] + total_sec\n",
    "            # take average seconds for pre data\n",
    "            avg_pre_data = []\n",
    "            for x in pre_data:\n",
    "                avg_pre_data.append(x/window)\n",
    "            # take average seconds for post data\n",
    "            avg_post_data = []\n",
    "            for x in post_data:\n",
    "                avg_post_data.append(x/window)\n",
    "            # convert seconds back to time string using datetime for pre data\n",
    "            pre_time = []\n",
    "            for x in avg_pre_data:\n",
    "                pre_time.append(str(datetime.timedelta(seconds = int(x))))\n",
    "            # convert seconds back to time string using datetime for post data\n",
    "            post_time = []\n",
    "            for x in avg_post_data:\n",
    "                post_time.append(str(datetime.timedelta(seconds = int(x))))\n",
    "            # append to the dictionary\n",
    "            total_data = pre_time + post_time\n",
    "            new_col[col_name] = new_col[col_name]+ total_data\n",
    "            # reset counter\n",
    "            index_counter = 0\n",
    "            counter = 0\n",
    "            pre_data = [0,0,0,0,0,0,0]\n",
    "            post_data = [0,0,0,0,0,0,0]\n",
    "            total_data = []\n",
    "        else:\n",
    "            # check if its pre or post date points\n",
    "            if index_counter < 7:\n",
    "                pre_data[index_counter] = pre_data[index_counter] + total_sec\n",
    "                # increase counters\n",
    "                index_counter = index_counter + 1\n",
    "                counter = counter + 1\n",
    "            else:\n",
    "                if index_counter == 14:\n",
    "                    pre_data[0] = pre_data[0] + total_sec\n",
    "                    # increase counters\n",
    "                    index_counter = 1\n",
    "                    counter = counter + 1\n",
    "                else:\n",
    "                    # modify time data\n",
    "                    post_data[index_counter-7] = post_data[index_counter-7] + total_sec\n",
    "                    # increase counters\n",
    "                    index_counter = index_counter + 1\n",
    "                    counter = counter + 1\n",
    "    eds_cols.update(new_col)\n",
    "    return eds_cols"
   ]
  },
  {
   "cell_type": "code",
   "execution_count": 6,
   "metadata": {},
   "outputs": [],
   "source": [
    "def sort_labels(eds_cols, window):\n",
    "    # read the noon_data csv file\n",
    "    df = read_data(\"./noon_data.csv\")\n",
    "    # declare initial variables\n",
    "    col_name = 'PRE/POST'\n",
    "    col_name2 = 'EDS/CTRL(#)'\n",
    "    counter = 0\n",
    "    new_col = {col_name:[]}\n",
    "    new_col2= {col_name2:[]}\n",
    "    # go through the labels column of the noon data csv file\n",
    "    for x in df[col_name]:\n",
    "        if counter == ((window*14)-1):\n",
    "            # append PRE\n",
    "            for x in range(7):\n",
    "                new_col[col_name].append(\"PRE\")\n",
    "            # append EDS number\n",
    "            for x in range(5):\n",
    "                new_col2[col_name2].append(\"EDS\"+str(x+1))\n",
    "            # append CTRL unmber\n",
    "            new_col2[col_name2].append(\"CTRL1\")\n",
    "            new_col2[col_name2].append(\"CTRL2\")\n",
    "\n",
    "            # append POST\n",
    "            for x in range(7):\n",
    "                new_col[col_name].append(\"POST\")\n",
    "            # append EDS number\n",
    "            for x in range(5):\n",
    "                new_col2[col_name2].append(\"EDS\"+str(x+1))\n",
    "            # append CTRL unmber\n",
    "            new_col2[col_name2].append(\"CTRL1\")\n",
    "            new_col2[col_name2].append(\"CTRL2\")\n",
    "            # reset counter\n",
    "            counter = 0\n",
    "        else:\n",
    "            # increase counter\n",
    "            counter = counter + 1\n",
    "    eds_cols.update(new_col)\n",
    "    eds_cols.update(new_col2)\n",
    "    return eds_cols"
   ]
  },
  {
   "cell_type": "code",
   "execution_count": 7,
   "metadata": {},
   "outputs": [],
   "source": [
    "def sort_data(name, eds_cols, window):\n",
    "    # read the noon_data csv file\n",
    "    df = read_data(\"./noon_data.csv\")\n",
    "    # declare initial variables\n",
    "    col_name = name #'Temperature(C)'\n",
    "    counter = 0\n",
    "    index_counter = 0\n",
    "    pre_data = [0,0,0,0,0,0,0]\n",
    "    post_data = [0,0,0,0,0,0,0]\n",
    "    new_col = {col_name:[]}\n",
    "    # go through the measurements data columns of the noon data csv file\n",
    "    for x in df[col_name]:\n",
    "        if counter == ((window*14)-1):\n",
    "            # modify nth time data\n",
    "            post_data[6] = post_data[6] + x\n",
    "            # take average seconds for pre data\n",
    "            avg_pre_data = []\n",
    "            for i in pre_data:\n",
    "                avg_pre_data.append(i/window)\n",
    "            # take average seconds for post data\n",
    "            avg_post_data = []\n",
    "            for i in post_data:\n",
    "                avg_post_data.append(i/window)\n",
    "            # append to the dictionary\n",
    "            total_data = avg_pre_data + avg_post_data\n",
    "            new_col[col_name] = new_col[col_name]+ total_data\n",
    "            # reset counter\n",
    "            index_counter = 0\n",
    "            counter = 0\n",
    "            pre_data = [0,0,0,0,0,0,0]\n",
    "            post_data = [0,0,0,0,0,0,0]\n",
    "            total_data = []\n",
    "        else:\n",
    "            # check if its pre or post date points\n",
    "            if index_counter < 7:\n",
    "                pre_data[index_counter] = pre_data[index_counter] + x\n",
    "                # increase counters\n",
    "                index_counter = index_counter + 1\n",
    "                counter = counter + 1\n",
    "            else:\n",
    "                if index_counter == 14:\n",
    "                    pre_data[0] = pre_data[0] + x\n",
    "                    # increase counters\n",
    "                    index_counter = 1\n",
    "                    counter = counter + 1\n",
    "                else:\n",
    "                    # modify time data\n",
    "                    post_data[index_counter-7] = post_data[index_counter-7] + x\n",
    "                    # increase counters\n",
    "                    index_counter = index_counter + 1\n",
    "                    counter = counter + 1\n",
    "    eds_cols.update(new_col)\n",
    "    return eds_cols"
   ]
  },
  {
   "cell_type": "code",
   "execution_count": 8,
   "metadata": {},
   "outputs": [],
   "source": [
    "def sort_labels(eds_cols, window):\n",
    "    # read the noon_data csv file\n",
    "    df = read_data(\"./noon_data.csv\")\n",
    "    # declare initial variables\n",
    "    col_name = 'PRE/POST'\n",
    "    col_name2 = 'EDS/CTRL(#)'\n",
    "    counter = 0\n",
    "    new_col = {col_name:[]}\n",
    "    new_col2= {col_name2:[]}\n",
    "    # go through the labels column of the noon data csv file\n",
    "    for x in df[col_name]:\n",
    "        if counter == ((window*14)-1):\n",
    "            # append PRE\n",
    "            for x in range(7):\n",
    "                new_col[col_name].append(\"PRE\")\n",
    "            # append EDS number\n",
    "            for x in range(5):\n",
    "                new_col2[col_name2].append(\"EDS\"+str(x+1))\n",
    "            # append CTRL unmber\n",
    "            new_col2[col_name2].append(\"CTRL1\")\n",
    "            new_col2[col_name2].append(\"CTRL2\")\n",
    "\n",
    "            # append POST\n",
    "            for x in range(7):\n",
    "                new_col[col_name].append(\"POST\")\n",
    "            # append EDS number\n",
    "            for x in range(5):\n",
    "                new_col2[col_name2].append(\"EDS\"+str(x+1))\n",
    "            # append CTRL unmber\n",
    "            new_col2[col_name2].append(\"CTRL1\")\n",
    "            new_col2[col_name2].append(\"CTRL2\")\n",
    "            # reset counter\n",
    "            counter = 0\n",
    "        else:\n",
    "            # increase counter\n",
    "            counter = counter + 1\n",
    "    eds_cols.update(new_col)\n",
    "    eds_cols.update(new_col2)\n",
    "    return eds_cols"
   ]
  },
  {
   "cell_type": "code",
   "execution_count": 9,
   "metadata": {},
   "outputs": [],
   "source": [
    "def get_avg_noon_data(cols_list, window):\n",
    "    # read the noon_data csv file\n",
    "    df = read_data(\"./noon_sorted.csv\")\n",
    "    # declare new dictionary for avg data\n",
    "    eds_cols = {}\n",
    "    # sort the date\n",
    "    eds_cols = sort_dates(eds_cols, window)\n",
    "    # sort the time\n",
    "    eds_cols = sort_time(eds_cols, window)\n",
    "    # sort the pre/post, EDS number\n",
    "    eds_cols = sort_labels(eds_cols, window)\n",
    "    # sort all the numerical data\n",
    "    for x in cols_list:\n",
    "        eds_cols = sort_data(x, eds_cols, window)\n",
    "    # create new dataframe\n",
    "    eds_df = pd.DataFrame(eds_cols)\n",
    "    return eds_df"
   ]
  },
  {
   "cell_type": "code",
   "execution_count": 11,
   "metadata": {},
   "outputs": [
    {
     "ename": "TypeError",
     "evalue": "must be real number, not str",
     "output_type": "error",
     "traceback": [
      "\u001b[0;31m---------------------------------------------------------------------------\u001b[0m",
      "\u001b[0;31mTypeError\u001b[0m                                 Traceback (most recent call last)",
      "\u001b[0;32m<ipython-input-11-a7546762812c>\u001b[0m in \u001b[0;36m<module>\u001b[0;34m\u001b[0m\n\u001b[1;32m      2\u001b[0m \u001b[0mcols_list\u001b[0m \u001b[0;34m=\u001b[0m \u001b[0;34m[\u001b[0m\u001b[0;34m'Temperature(C)'\u001b[0m\u001b[0;34m,\u001b[0m \u001b[0;34m'Humidity(%)'\u001b[0m\u001b[0;34m,\u001b[0m \u001b[0;34m'GPOA(W/M2)'\u001b[0m\u001b[0;34m,\u001b[0m \u001b[0;34m'OCV(V)'\u001b[0m\u001b[0;34m,\u001b[0m \u001b[0;34m'SCC(A)'\u001b[0m\u001b[0;34m,\u001b[0m \u001b[0;34m'Power(W)'\u001b[0m\u001b[0;34m,\u001b[0m \u001b[0;34m'PR'\u001b[0m\u001b[0;34m,\u001b[0m \u001b[0;34m'SR'\u001b[0m\u001b[0;34m]\u001b[0m\u001b[0;34m\u001b[0m\u001b[0;34m\u001b[0m\u001b[0m\n\u001b[1;32m      3\u001b[0m \u001b[0;31m# call the function\u001b[0m\u001b[0;34m\u001b[0m\u001b[0;34m\u001b[0m\u001b[0;34m\u001b[0m\u001b[0m\n\u001b[0;32m----> 4\u001b[0;31m \u001b[0meds\u001b[0m \u001b[0;34m=\u001b[0m \u001b[0mget_avg_noon_data\u001b[0m\u001b[0;34m(\u001b[0m\u001b[0mcols_list\u001b[0m\u001b[0;34m,\u001b[0m \u001b[0;36m7\u001b[0m\u001b[0;34m)\u001b[0m\u001b[0;34m\u001b[0m\u001b[0;34m\u001b[0m\u001b[0m\n\u001b[0m\u001b[1;32m      5\u001b[0m \u001b[0meds\u001b[0m\u001b[0;34m\u001b[0m\u001b[0;34m\u001b[0m\u001b[0m\n",
      "\u001b[0;32m<ipython-input-9-bf4cb011de4e>\u001b[0m in \u001b[0;36mget_avg_noon_data\u001b[0;34m(cols_list, window)\u001b[0m\n\u001b[1;32m      1\u001b[0m \u001b[0;32mdef\u001b[0m \u001b[0mget_avg_noon_data\u001b[0m\u001b[0;34m(\u001b[0m\u001b[0mcols_list\u001b[0m\u001b[0;34m,\u001b[0m \u001b[0mwindow\u001b[0m\u001b[0;34m)\u001b[0m\u001b[0;34m:\u001b[0m\u001b[0;34m\u001b[0m\u001b[0;34m\u001b[0m\u001b[0m\n\u001b[1;32m      2\u001b[0m     \u001b[0;31m# read the noon_data csv file\u001b[0m\u001b[0;34m\u001b[0m\u001b[0;34m\u001b[0m\u001b[0;34m\u001b[0m\u001b[0m\n\u001b[0;32m----> 3\u001b[0;31m     \u001b[0mdf\u001b[0m \u001b[0;34m=\u001b[0m \u001b[0mread_data\u001b[0m\u001b[0;34m(\u001b[0m\u001b[0;34m\"./noon_sorted.csv\"\u001b[0m\u001b[0;34m)\u001b[0m\u001b[0;34m\u001b[0m\u001b[0;34m\u001b[0m\u001b[0m\n\u001b[0m\u001b[1;32m      4\u001b[0m     \u001b[0;31m# declare new dictionary for avg data\u001b[0m\u001b[0;34m\u001b[0m\u001b[0;34m\u001b[0m\u001b[0;34m\u001b[0m\u001b[0m\n\u001b[1;32m      5\u001b[0m     \u001b[0meds_cols\u001b[0m \u001b[0;34m=\u001b[0m \u001b[0;34m{\u001b[0m\u001b[0;34m}\u001b[0m\u001b[0;34m\u001b[0m\u001b[0;34m\u001b[0m\u001b[0m\n",
      "\u001b[0;32m<ipython-input-3-071730ba62bc>\u001b[0m in \u001b[0;36mread_data\u001b[0;34m(name)\u001b[0m\n\u001b[1;32m      9\u001b[0m     \u001b[0mi\u001b[0m \u001b[0;34m=\u001b[0m \u001b[0;36m0\u001b[0m\u001b[0;34m\u001b[0m\u001b[0;34m\u001b[0m\u001b[0m\n\u001b[1;32m     10\u001b[0m     \u001b[0;32mfor\u001b[0m \u001b[0mindex\u001b[0m\u001b[0;34m,\u001b[0m\u001b[0mrow\u001b[0m \u001b[0;32min\u001b[0m \u001b[0ma\u001b[0m\u001b[0;34m:\u001b[0m\u001b[0;34m\u001b[0m\u001b[0;34m\u001b[0m\u001b[0m\n\u001b[0;32m---> 11\u001b[0;31m         \u001b[0;32mif\u001b[0m \u001b[0mmath\u001b[0m\u001b[0;34m.\u001b[0m\u001b[0misnan\u001b[0m\u001b[0;34m(\u001b[0m\u001b[0mrow\u001b[0m\u001b[0;34m[\u001b[0m\u001b[0;36m2\u001b[0m\u001b[0;34m]\u001b[0m\u001b[0;34m)\u001b[0m\u001b[0;34m:\u001b[0m\u001b[0;34m\u001b[0m\u001b[0;34m\u001b[0m\u001b[0m\n\u001b[0m\u001b[1;32m     12\u001b[0m             \u001b[0;32mbreak\u001b[0m\u001b[0;34m\u001b[0m\u001b[0;34m\u001b[0m\u001b[0m\n\u001b[1;32m     13\u001b[0m         \u001b[0;32melse\u001b[0m\u001b[0;34m:\u001b[0m\u001b[0;34m\u001b[0m\u001b[0;34m\u001b[0m\u001b[0m\n",
      "\u001b[0;31mTypeError\u001b[0m: must be real number, not str"
     ]
    }
   ],
   "source": [
    "# declare metrics for noon data table\n",
    "cols_list = ['Temperature(C)', 'Humidity(%)', 'GPOA(W/M2)', 'OCV(V)', 'SCC(A)', 'Power(W)', 'PR', 'SR']\n",
    "# call the function\n",
    "eds = get_avg_noon_data(cols_list, 7)\n",
    "eds"
   ]
  },
  {
   "cell_type": "code",
   "execution_count": null,
   "metadata": {},
   "outputs": [],
   "source": []
  },
  {
   "cell_type": "code",
   "execution_count": null,
   "metadata": {},
   "outputs": [],
   "source": []
  }
 ],
 "metadata": {
  "kernelspec": {
   "display_name": "Python 3",
   "language": "python",
   "name": "python3"
  },
  "language_info": {
   "codemirror_mode": {
    "name": "ipython",
    "version": 3
   },
   "file_extension": ".py",
   "mimetype": "text/x-python",
   "name": "python",
   "nbconvert_exporter": "python",
   "pygments_lexer": "ipython3",
   "version": "3.6.8"
  }
 },
 "nbformat": 4,
 "nbformat_minor": 4
}
